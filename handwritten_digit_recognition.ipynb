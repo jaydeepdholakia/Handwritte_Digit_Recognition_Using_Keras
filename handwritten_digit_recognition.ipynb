{
 "cells": [
  {
   "cell_type": "code",
   "execution_count": 1,
   "metadata": {},
   "outputs": [
    {
     "name": "stderr",
     "output_type": "stream",
     "text": [
      "C:\\Anaconda3\\lib\\site-packages\\h5py\\__init__.py:36: FutureWarning: Conversion of the second argument of issubdtype from `float` to `np.floating` is deprecated. In future, it will be treated as `np.float64 == np.dtype(float).type`.\n",
      "  from ._conv import register_converters as _register_converters\n",
      "Using TensorFlow backend.\n"
     ]
    }
   ],
   "source": [
    "#import all the necessary libraries\n",
    "\n",
    "import numpy as np\n",
    "import pandas as pd\n",
    "import keras\n",
    "from keras.datasets import mnist\n",
    "from keras.models import Sequential\n",
    "from keras.layers import Dense\n",
    "from keras.optimizers import RMSprop\n",
    "import matplotlib.pyplot as plt\n",
    "import cv2"
   ]
  },
  {
   "cell_type": "code",
   "execution_count": 2,
   "metadata": {},
   "outputs": [],
   "source": [
    "#import the data from MNIST\n",
    "(x_train, y_train), (x_test, y_test) = mnist.load_data()\n",
    "\n",
    "#Reshape it\n",
    "x_train = x_train.reshape(60000,784)\n",
    "x_test  = x_test.reshape(10000,784)\n",
    "x_train = x_train.astype('float32')\n",
    "x_test  = x_test.astype('float32')\n",
    "\n",
    "\n",
    "y_train = keras.utils.to_categorical(y_train,10)\n",
    "y_test = keras.utils.to_categorical(y_test,10)\n"
   ]
  },
  {
   "cell_type": "code",
   "execution_count": 3,
   "metadata": {},
   "outputs": [],
   "source": [
    "#Create a model\n",
    "\n",
    "model = Sequential([\n",
    "    Dense(32, input_shape=(784,), activation = 'tanh'),\n",
    "    Dense(10, activation = \"softmax\")\n",
    "])"
   ]
  },
  {
   "cell_type": "code",
   "execution_count": 4,
   "metadata": {},
   "outputs": [],
   "source": [
    "#Compile the model\n",
    "\n",
    "model.compile(optimizer=RMSprop(), loss='categorical_crossentropy', metrics=['accuracy'])"
   ]
  },
  {
   "cell_type": "code",
   "execution_count": 5,
   "metadata": {},
   "outputs": [
    {
     "name": "stdout",
     "output_type": "stream",
     "text": [
      "Train on 60000 samples, validate on 10000 samples\n",
      "Epoch 1/10\n",
      " - 7s - loss: 0.6054 - acc: 0.8118 - val_loss: 0.4025 - val_acc: 0.8785\n",
      "Epoch 2/10\n",
      " - 6s - loss: 0.3986 - acc: 0.8808 - val_loss: 0.3597 - val_acc: 0.8916\n",
      "Epoch 3/10\n",
      " - 6s - loss: 0.3756 - acc: 0.8870 - val_loss: 0.3781 - val_acc: 0.8857\n",
      "Epoch 4/10\n",
      " - 7s - loss: 0.3621 - acc: 0.8909 - val_loss: 0.3482 - val_acc: 0.8962\n",
      "Epoch 5/10\n",
      " - 7s - loss: 0.3469 - acc: 0.8957 - val_loss: 0.3302 - val_acc: 0.9019\n",
      "Epoch 6/10\n",
      " - 7s - loss: 0.3429 - acc: 0.8971 - val_loss: 0.3288 - val_acc: 0.9041\n",
      "Epoch 7/10\n",
      " - 7s - loss: 0.3370 - acc: 0.8984 - val_loss: 0.3270 - val_acc: 0.9020\n",
      "Epoch 8/10\n",
      " - 7s - loss: 0.3375 - acc: 0.8978 - val_loss: 0.3268 - val_acc: 0.9030\n",
      "Epoch 9/10\n",
      " - 7s - loss: 0.3293 - acc: 0.9001 - val_loss: 0.3210 - val_acc: 0.9037\n",
      "Epoch 10/10\n",
      " - 7s - loss: 0.3247 - acc: 0.9022 - val_loss: 0.3246 - val_acc: 0.8998\n",
      "60000/60000 [==============================] - 1s 20us/step\n",
      "Test loss =  0.3240788378904263\n",
      "Test Accuracy =  0.9021166666666667\n"
     ]
    }
   ],
   "source": [
    "#Here we train it\n",
    "\n",
    "model.fit(x_train,y_train, batch_size=10, epochs=10, shuffle=True, verbose=2,validation_data=(x_test, y_test))\n",
    "\n",
    "\n",
    "#To see how much accuracy we have and how much of the loss\n",
    "\n",
    "score = model.evaluate(x_train,y_train)\n",
    "print('Test loss = ',score[0])\n",
    "print('Test Accuracy = ', score[1])"
   ]
  },
  {
   "cell_type": "code",
   "execution_count": 6,
   "metadata": {},
   "outputs": [
    {
     "data": {
      "image/png": "[encoded data removed]",
      "text/plain": [
       "<matplotlib.figure.Figure at 0x20f823247b8>"
      ]
     },
     "metadata": {},
     "output_type": "display_data"
    }
   ],
   "source": [
    "#Import the image from the link: https://goo.gl/gqzFvm\n",
    "\n",
    "img_brg = cv2.imread('image.jpg',cv2.IMREAD_COLOR)\n",
    "\n",
    "img_rbg = cv2.cvtColor(img_brg, cv2.COLOR_BGR2RGB)\n",
    "\n",
    "plt.imshow(img_rbg), plt.axis(\"off\")\n",
    "plt.show()"
   ]
  },
  {
   "cell_type": "code",
   "execution_count": 7,
   "metadata": {},
   "outputs": [],
   "source": [
    "# Reshape it and give it to our model\n",
    "\n",
    "img = cv2.imread('image.jpg', cv2.IMREAD_GRAYSCALE)\n",
    "\n",
    "img_resized = img.resize(28,28)\n",
    "\n",
    "img_reshaped = img.reshape(1,784)"
   ]
  },
  {
   "cell_type": "code",
   "execution_count": 8,
   "metadata": {},
   "outputs": [
    {
     "name": "stdout",
     "output_type": "stream",
     "text": [
      "Prediction Score:\n",
      " [0.00939282 0.00053699 0.2556081  0.20649835 0.00087867 0.50851315\n",
      " 0.00766596 0.00700735 0.00323247 0.00066608]\n",
      "\n",
      "Thresholded Score:\n",
      " [0 0 0 0 0 1 0 0 0 0]\n",
      "\n",
      "Predicted Digit:\n",
      " 5\n"
     ]
    }
   ],
   "source": [
    "#Predict the digit from image\n",
    "\n",
    "prediction = model.predict(img_reshaped)\n",
    "\n",
    "print('Prediction Score:\\n',prediction[0])\n",
    "thresholded = (prediction>0.5)*1\n",
    "print('\\nThresholded Score:\\n',thresholded[0])\n",
    "print('\\nPredicted Digit:\\n',np.where(thresholded == 1)[1][0])"
   ]
  }
 ],
 "metadata": {
  "kernelspec": {
   "display_name": "Python 3",
   "language": "python",
   "name": "python3"
  },
  "language_info": {
   "codemirror_mode": {
    "name": "ipython",
    "version": 3
   },
   "file_extension": ".py",
   "mimetype": "text/x-python",
   "name": "python",
   "nbconvert_exporter": "python",
   "pygments_lexer": "ipython3",
   "version": "3.6.4"
  }
 },
 "nbformat": 4,
 "nbformat_minor": 2
}
